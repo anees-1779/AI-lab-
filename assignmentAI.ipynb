{
 "cells": [
  {
   "cell_type": "markdown",
   "id": "8014feb2-c008-42f3-b412-1a153d8d1009",
   "metadata": {},
   "source": [
    "# AI assignment"
   ]
  },
  {
   "cell_type": "markdown",
   "id": "59900c7c-836f-4769-a7c5-bc7898a6f766",
   "metadata": {},
   "source": [
    " ## 1.Write a program to find prime number with in a range using function."
   ]
  },
  {
   "cell_type": "code",
   "execution_count": 1,
   "id": "d3cbb831-1769-439a-965b-ad4c518e7229",
   "metadata": {},
   "outputs": [
    {
     "name": "stdin",
     "output_type": "stream",
     "text": [
      "Enter the range. 10,20\n"
     ]
    },
    {
     "name": "stdout",
     "output_type": "stream",
     "text": [
      "[11, 13, 17, 19]\n"
     ]
    }
   ],
   "source": [
    "# Function to check and return prime number\n",
    "def isPrime(n):\n",
    "    c=0\n",
    "    for i in range(1,n+1):\n",
    "        if n%i ==0:\n",
    "            c+=1\n",
    "    if c==2:\n",
    "        return True\n",
    "    else:\n",
    "        return False\n",
    "\n",
    "# Function to calculate prime number within given range\n",
    "def primeCalculator(a,b):\n",
    "    primeList = []\n",
    "    for i in range(a,b+1):\n",
    "        if isPrime(i):\n",
    "            primeList.append(i)\n",
    "    return primeList\n",
    "\n",
    "# Asking for input\n",
    "n1,n2 = map(int,input(\"Enter the range.\").split(\",\"))\n",
    "if n1>n2:\n",
    "    print(primeCalculator(n2,n1))\n",
    "else:\n",
    "    print(primeCalculator(n1,n2))"
   ]
  },
  {
   "cell_type": "markdown",
   "id": "476284bb-2bcf-4609-ac16-4f835c77648a",
   "metadata": {},
   "source": [
    "#### Enter the range. 10,20"
   ]
  },
  {
   "cell_type": "markdown",
   "id": "42145acf-f93c-4c1c-b6cb-bc05def63542",
   "metadata": {},
   "source": [
    "## 2.Write a program to check palindrome."
   ]
  },
  {
   "cell_type": "code",
   "execution_count": 2,
   "id": "c0d227b9-448b-4b31-89d3-4bb50d25848e",
   "metadata": {},
   "outputs": [
    {
     "name": "stdin",
     "output_type": "stream",
     "text": [
      "Enter the number/string to be checked. 123454321\n"
     ]
    },
    {
     "name": "stdout",
     "output_type": "stream",
     "text": [
      "Palindrome\n"
     ]
    }
   ],
   "source": [
    "# Function to check palindrome and return corresponding bool value \n",
    "def isPalindrome(n):\n",
    "    rev = n[::-1]\n",
    "    if rev == n:\n",
    "        return True\n",
    "    else:\n",
    "        return False\n",
    "\n",
    "# Main program\n",
    "n = input(\"Enter the number/string to be checked.\")\n",
    "if isPalindrome(n):\n",
    "    print(\"Palindrome\")\n",
    "else:\n",
    "    print(\"Not palindrome\")"
   ]
  },
  {
   "cell_type": "markdown",
   "id": "35583606-d215-4028-9414-83a67433cac9",
   "metadata": {},
   "source": [
    "#### Enter the number/string to be checked. 123454321"
   ]
  },
  {
   "cell_type": "markdown",
   "id": "504952e5-be0e-4031-93d4-a59562babc77",
   "metadata": {},
   "source": [
    "## 3.Write a program to generate the Fibonacci sequence of a given number."
   ]
  },
  {
   "cell_type": "code",
   "execution_count": 5,
   "id": "4aeed7e5-d5dc-4f4f-ba12-715816f7d1db",
   "metadata": {},
   "outputs": [
    {
     "name": "stdin",
     "output_type": "stream",
     "text": [
      "Enter the number of terms. 5\n"
     ]
    },
    {
     "name": "stdout",
     "output_type": "stream",
     "text": [
      "The fibonacci sequence is [0, 1, 1, 2, 3]\n"
     ]
    }
   ],
   "source": [
    "# Fibonacci number generator function\n",
    "def fibonacci(n):\n",
    "    ft = 0\n",
    "    st = 1\n",
    "    numberList = []\n",
    "    for _ in range (n):\n",
    "        numberList.append(ft)\n",
    "        nt = ft + st\n",
    "        ft = st\n",
    "        st = nt\n",
    "    return numberList\n",
    "\n",
    "# Main program\n",
    "number = int(input(\"Enter the number of terms.\"))\n",
    "print(f\"The fibonacci sequence is {fibonacci(number)}\")"
   ]
  },
  {
   "cell_type": "markdown",
   "id": "a8f1382e-136b-4f4d-8cdc-980e16fbc6c3",
   "metadata": {},
   "source": [
    "#### Enter the number of terms. 5"
   ]
  },
  {
   "cell_type": "markdown",
   "id": "ac3f0710-eb48-4ec9-8831-b5e410fe6155",
   "metadata": {},
   "source": [
    "## 4.Create a number guessing game. Where you have to generate a random number in between 1 to 100 and user have to prompt a number for guess. if its high or low number let the user know and guide them through the process to guess correct number."
   ]
  },
  {
   "cell_type": "code",
   "execution_count": 6,
   "id": "a484bad8-39bd-487d-991b-adfcc593d931",
   "metadata": {},
   "outputs": [
    {
     "name": "stdin",
     "output_type": "stream",
     "text": [
      "Guess a number. 45\n"
     ]
    },
    {
     "name": "stdout",
     "output_type": "stream",
     "text": [
      "Guess lower\n"
     ]
    },
    {
     "name": "stdin",
     "output_type": "stream",
     "text": [
      " 40\n"
     ]
    },
    {
     "name": "stdout",
     "output_type": "stream",
     "text": [
      "Guess lower\n"
     ]
    },
    {
     "name": "stdin",
     "output_type": "stream",
     "text": [
      " 35\n"
     ]
    },
    {
     "name": "stdout",
     "output_type": "stream",
     "text": [
      "Guess lower\n"
     ]
    },
    {
     "name": "stdin",
     "output_type": "stream",
     "text": [
      " 30\n"
     ]
    },
    {
     "name": "stdout",
     "output_type": "stream",
     "text": [
      "Guess lower\n"
     ]
    },
    {
     "name": "stdin",
     "output_type": "stream",
     "text": [
      " 25\n"
     ]
    },
    {
     "name": "stdout",
     "output_type": "stream",
     "text": [
      "Guess lower\n"
     ]
    },
    {
     "name": "stdin",
     "output_type": "stream",
     "text": [
      " 20\n"
     ]
    },
    {
     "name": "stdout",
     "output_type": "stream",
     "text": [
      "Guess lower\n"
     ]
    },
    {
     "name": "stdin",
     "output_type": "stream",
     "text": [
      " 15\n"
     ]
    },
    {
     "name": "stdout",
     "output_type": "stream",
     "text": [
      "Guess lower\n"
     ]
    },
    {
     "name": "stdin",
     "output_type": "stream",
     "text": [
      " 10\n"
     ]
    },
    {
     "name": "stdout",
     "output_type": "stream",
     "text": [
      "Guess higher.\n"
     ]
    },
    {
     "name": "stdin",
     "output_type": "stream",
     "text": [
      " 11\n"
     ]
    },
    {
     "name": "stdout",
     "output_type": "stream",
     "text": [
      "Guess higher.\n"
     ]
    },
    {
     "name": "stdin",
     "output_type": "stream",
     "text": [
      " 12\n"
     ]
    },
    {
     "name": "stdout",
     "output_type": "stream",
     "text": [
      "Guess higher.\n"
     ]
    },
    {
     "name": "stdin",
     "output_type": "stream",
     "text": [
      " 13\n"
     ]
    },
    {
     "name": "stdout",
     "output_type": "stream",
     "text": [
      "Guess higher.\n"
     ]
    },
    {
     "name": "stdin",
     "output_type": "stream",
     "text": [
      " 14\n"
     ]
    },
    {
     "name": "stdout",
     "output_type": "stream",
     "text": [
      "Correct guess\n",
      "Wana play again?\n"
     ]
    },
    {
     "name": "stdin",
     "output_type": "stream",
     "text": [
      "y/n n\n"
     ]
    }
   ],
   "source": [
    "import numpy as np\n",
    "\n",
    "mainLoop = True\n",
    "while mainLoop:\n",
    "    unknownNumber = np.random.randint(1,101)\n",
    "    guessedNumber = int(input(\"Guess a number.\"))\n",
    "    gameLoop = True\n",
    "    choiceLoop = True\n",
    "    while gameLoop:\n",
    "        if guessedNumber < unknownNumber:\n",
    "            print(\"Guess higher.\")\n",
    "            guessedNumber = int(input())\n",
    "        elif guessedNumber > unknownNumber:\n",
    "            print(\"Guess lower\")\n",
    "            guessedNumber = int(input())\n",
    "        else:\n",
    "            print(\"Correct guess\")\n",
    "            gameLoop = False\n",
    "    print(\"Wana play again?\")\n",
    "    choice = input(\"y/n\")\n",
    "    while choiceLoop:\n",
    "        if choice == 'y':\n",
    "            choiceLoop = False\n",
    "        elif choice == 'n':\n",
    "            choiceLoop = False\n",
    "            mainLoop = False\n",
    "        else:\n",
    "            print(\"Enter valid key\")\n",
    "            choice = input()"
   ]
  },
  {
   "cell_type": "markdown",
   "id": "86aeee75-855e-412e-b6d3-c4c8b7b0358f",
   "metadata": {},
   "source": [
    "#### Guess a number. 45 40 35 30 25 15 10 11 12 13 14"
   ]
  },
  {
   "cell_type": "code",
   "execution_count": null,
   "id": "26778b10-86c7-498d-beb8-8e6dd5b34d80",
   "metadata": {},
   "outputs": [],
   "source": []
  }
 ],
 "metadata": {
  "kernelspec": {
   "display_name": "Python 3 (ipykernel)",
   "language": "python",
   "name": "python3"
  },
  "language_info": {
   "codemirror_mode": {
    "name": "ipython",
    "version": 3
   },
   "file_extension": ".py",
   "mimetype": "text/x-python",
   "name": "python",
   "nbconvert_exporter": "python",
   "pygments_lexer": "ipython3",
   "version": "3.11.7"
  }
 },
 "nbformat": 4,
 "nbformat_minor": 5
}
